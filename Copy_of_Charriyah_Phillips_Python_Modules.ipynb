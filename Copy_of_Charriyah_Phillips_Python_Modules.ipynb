{
  "cells": [
    {
      "cell_type": "markdown",
      "metadata": {
        "id": "ARJM70suB_2Q"
      },
      "source": [
        "# 🐍 Python Standard Library Demonstrations\n",
        "This notebook demonstrates the usage of several important Python modules:\n",
        "- `datetime`\n",
        "- `random`\n",
        "- `copy`\n",
        "- `time`\n",
        "- `math`\n",
        "- `os`\n",
        "- `sys`\n",
        "- `pdb`\n",
        "\n",
        "Each section includes a Markdown explanation and example code."
      ],
      "id": "ARJM70suB_2Q"
    },
    {
      "cell_type": "code",
      "execution_count": null,
      "id": "254edabc",
      "metadata": {
        "id": "254edabc"
      },
      "outputs": [],
      "source": []
    },
    {
      "cell_type": "markdown",
      "metadata": {
        "id": "2kyP2AqdB_2T"
      },
      "source": [
        "## 1. datetime — Working with Dates and Times\n",
        "The `datetime` module supplies classes for manipulating dates and times.\n",
        "We can use it to get the current date and time, format it, or calculate time differences."
      ],
      "id": "2kyP2AqdB_2T"
    },
    {
      "cell_type": "code",
      "execution_count": null,
      "metadata": {
        "colab": {
          "base_uri": "https://localhost:8080/"
        },
        "id": "M1yeVjfVB_2U",
        "outputId": "a892f8d7-48da-429c-d1ee-b6f4f04ff5ca"
      },
      "outputs": [
        {
          "output_type": "stream",
          "name": "stdout",
          "text": [
            "Current Date and Time: 2025-10-20 19:13:45\n"
          ]
        }
      ],
      "source": [
        "from datetime import datetime\n",
        "\n",
        "# Get current date and time\n",
        "now = datetime.now()\n",
        "\n",
        "# Format the date/time\n",
        "formatted = now.strftime('%Y-%m-%d %H:%M:%S')\n",
        "\n",
        "print('Current Date and Time:', formatted)"
      ],
      "id": "M1yeVjfVB_2U"
    },
    {
      "cell_type": "markdown",
      "metadata": {
        "id": "0e8WGFOJB_2V"
      },
      "source": [
        "## 2. random — Generate Random Data\n",
        "The `random` module allows us to generate random numbers and choices.\n",
        "Here, we’ll use it to generate a **random password** of a given length."
      ],
      "id": "0e8WGFOJB_2V"
    },
    {
      "cell_type": "code",
      "execution_count": null,
      "metadata": {
        "colab": {
          "base_uri": "https://localhost:8080/"
        },
        "id": "syoBxh40B_2V",
        "outputId": "4177bb09-1061-4dc1-d237-350d78349023"
      },
      "outputs": [
        {
          "output_type": "stream",
          "name": "stdout",
          "text": [
            "Generated Password: :Z)Me(~J\"buJ\n"
          ]
        }
      ],
      "source": [
        "import random\n",
        "import string\n",
        "\n",
        "def generate_password(length=10):\n",
        "    characters = string.ascii_letters + string.digits + string.punctuation\n",
        "    password = ''.join(random.choice(characters) for _ in range(length))\n",
        "    return password\n",
        "\n",
        "print('Generated Password:', generate_password(12))"
      ],
      "id": "syoBxh40B_2V"
    },
    {
      "cell_type": "markdown",
      "metadata": {
        "id": "dgyX5f0wB_2V"
      },
      "source": [
        "## 3. copy — Shallow vs Deep Copy\n",
        "The `copy` module provides functions to create shallow and deep copies of objects.\n",
        "- A **shallow copy** creates a new object but references the same nested objects.\n",
        "- A **deep copy** creates a completely independent clone."
      ],
      "id": "dgyX5f0wB_2V"
    },
    {
      "cell_type": "code",
      "execution_count": null,
      "metadata": {
        "colab": {
          "base_uri": "https://localhost:8080/"
        },
        "id": "3hb-RFzlB_2V",
        "outputId": "97dcfe95-a4c9-447a-f062-1de9a90cc035"
      },
      "outputs": [
        {
          "output_type": "stream",
          "name": "stdout",
          "text": [
            "Original: [['X', 2], [3, 4]]\n",
            "Shallow Copy: [['X', 2], [3, 4]]\n",
            "Deep Copy: [[1, 2], [3, 4]]\n"
          ]
        }
      ],
      "source": [
        "import copy\n",
        "\n",
        "# Original nested list\n",
        "original = [[1, 2], [3, 4]]\n",
        "\n",
        "# Shallow and deep copies\n",
        "shallow_copy = copy.copy(original)\n",
        "deep_copy = copy.deepcopy(original)\n",
        "\n",
        "# Modify original\n",
        "original[0][0] = 'X'\n",
        "\n",
        "print('Original:', original)\n",
        "print('Shallow Copy:', shallow_copy)\n",
        "print('Deep Copy:', deep_copy)"
      ],
      "id": "3hb-RFzlB_2V"
    },
    {
      "cell_type": "markdown",
      "metadata": {
        "id": "HgA2tyLWB_2W"
      },
      "source": [
        "## 4. time — Timing and Delays\n",
        "The `time` module allows access to time-related functions.\n",
        "We can use `time.sleep()` to pause execution and measure elapsed time."
      ],
      "id": "HgA2tyLWB_2W"
    },
    {
      "cell_type": "code",
      "execution_count": null,
      "metadata": {
        "colab": {
          "base_uri": "https://localhost:8080/"
        },
        "id": "48L9Lg0GB_2W",
        "outputId": "1892e1cc-5db5-4883-f483-9667567d92a7"
      },
      "outputs": [
        {
          "output_type": "stream",
          "name": "stdout",
          "text": [
            "Timer started...\n",
            "Timer stopped.\n",
            "Elapsed time: 2.00 seconds\n"
          ]
        }
      ],
      "source": [
        "import time\n",
        "\n",
        "print('Timer started...')\n",
        "start = time.time()\n",
        "\n",
        "# Pause for 2 seconds\n",
        "time.sleep(2)\n",
        "\n",
        "end = time.time()\n",
        "print('Timer stopped.')\n",
        "print(f'Elapsed time: {end - start:.2f} seconds')"
      ],
      "id": "48L9Lg0GB_2W"
    },
    {
      "cell_type": "markdown",
      "metadata": {
        "id": "9iqZmsc1B_2W"
      },
      "source": [
        "## 5. math — Mathematical Operations\n",
        "The `math` module provides access to mathematical functions.\n",
        "We’ll calculate the **area of a circle** given its radius."
      ],
      "id": "9iqZmsc1B_2W"
    },
    {
      "cell_type": "code",
      "execution_count": null,
      "metadata": {
        "colab": {
          "base_uri": "https://localhost:8080/"
        },
        "id": "xG001WjhB_2X",
        "outputId": "70b3715a-559c-4235-f16f-de779683d5ab"
      },
      "outputs": [
        {
          "output_type": "stream",
          "name": "stdout",
          "text": [
            "The area of a circle with radius 5 is 78.54\n"
          ]
        }
      ],
      "source": [
        "import math\n",
        "\n",
        "radius = 5\n",
        "area = math.pi * (radius ** 2)\n",
        "print(f'The area of a circle with radius {radius} is {area:.2f}')"
      ],
      "id": "xG001WjhB_2X"
    },
    {
      "cell_type": "markdown",
      "metadata": {
        "id": "Wilw7VIFB_2X"
      },
      "source": [
        "## 6. os — Operating System Interface\n",
        "The `os` module allows interaction with the operating system.\n",
        "We’ll use it to **list files** in the current directory."
      ],
      "id": "Wilw7VIFB_2X"
    },
    {
      "cell_type": "code",
      "execution_count": null,
      "metadata": {
        "colab": {
          "base_uri": "https://localhost:8080/"
        },
        "id": "kH_ZPFs8B_2X",
        "outputId": "08808c6d-3ea9-41d8-be85-8c4bf5c2f359"
      },
      "outputs": [
        {
          "output_type": "stream",
          "name": "stdout",
          "text": [
            "Files in current directory:\n",
            "- .config\n",
            "- sample_data\n"
          ]
        }
      ],
      "source": [
        "import os\n",
        "\n",
        "print('Files in current directory:')\n",
        "for file in os.listdir('.'):\n",
        "    print('-', file)"
      ],
      "id": "kH_ZPFs8B_2X"
    },
    {
      "cell_type": "markdown",
      "metadata": {
        "id": "o8DGWrZHB_2X"
      },
      "source": [
        "## 7. sys — System-Specific Parameters\n",
        "The `sys` module provides access to system variables and functions.\n",
        "We can use it to check the **Python version** currently in use."
      ],
      "id": "o8DGWrZHB_2X"
    },
    {
      "cell_type": "code",
      "execution_count": null,
      "metadata": {
        "colab": {
          "base_uri": "https://localhost:8080/"
        },
        "id": "jg2op2UnB_2X",
        "outputId": "a7da700c-a3d4-41d0-f3dd-7423984b1d4f"
      },
      "outputs": [
        {
          "output_type": "stream",
          "name": "stdout",
          "text": [
            "Python Version:\n",
            "3.12.12 (main, Oct 10 2025, 08:52:57) [GCC 11.4.0]\n"
          ]
        }
      ],
      "source": [
        "import sys\n",
        "\n",
        "print('Python Version:')\n",
        "print(sys.version)"
      ],
      "id": "jg2op2UnB_2X"
    },
    {
      "cell_type": "markdown",
      "metadata": {
        "id": "u9GondGtB_2X"
      },
      "source": [
        "## 8. pdb — The Python Debugger\n",
        "The `pdb` module helps debug code by pausing execution and inspecting variables.\n",
        "Here, we’ll intentionally trigger a **division-by-zero error** and debug it."
      ],
      "id": "u9GondGtB_2X"
    },
    {
      "cell_type": "code",
      "execution_count": null,
      "metadata": {
        "colab": {
          "base_uri": "https://localhost:8080/"
        },
        "id": "GoUpQgxKB_2X",
        "outputId": "49855263-b1be-47ed-e0d6-20b839a79f9b"
      },
      "outputs": [
        {
          "output_type": "stream",
          "name": "stdout",
          "text": [
            "Note: Uncomment the divide(10, 0) line to run the debugger.\n"
          ]
        }
      ],
      "source": [
        "import pdb\n",
        "\n",
        "def divide(a, b):\n",
        "    pdb.set_trace()  # Start debugger\n",
        "    return a / b\n",
        "\n",
        "# Uncomment the line below to try debugging interactively.\n",
        "# divide(10, 0)\n",
        "print('Note: Uncomment the divide(10, 0) line to run the debugger.')"
      ],
      "id": "GoUpQgxKB_2X"
    }
  ],
  "metadata": {
    "kernelspec": {
      "display_name": "Python 3",
      "language": "python",
      "name": "python3"
    },
    "colab": {
      "provenance": []
    }
  },
  "nbformat": 4,
  "nbformat_minor": 5
}