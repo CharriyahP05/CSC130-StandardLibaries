{
 "cells": [
  {
   "cell_type": "markdown",
   "metadata": {},
   "source": [
    "# 🐍 Python Standard Library Demonstrations\n",
    "This notebook demonstrates the usage of several important Python modules:\n",
    "- `datetime`\n",
    "- `random`\n",
    "- `copy`\n",
    "- `time`\n",
    "- `math`\n",
    "- `os`\n",
    "- `sys`\n",
    "- `pdb`\n",
    "\n",
    "Each section includes a Markdown explanation and example code."
   ]
  },
  {
   "cell_type": "code",
   "execution_count": null,
   "id": "254edabc",
   "metadata": {},
   "outputs": [],
   "source": []
  },
  {
   "cell_type": "markdown",
   "metadata": {},
   "source": [
    "## 1. datetime — Working with Dates and Times\n",
    "The `datetime` module supplies classes for manipulating dates and times.\n",
    "We can use it to get the current date and time, format it, or calculate time differences."
   ]
  },
  {
   "cell_type": "code",
   "execution_count": null,
   "metadata": {},
   "outputs": [],
   "source": [
    "from datetime import datetime\n",
    "\n",
    "# Get current date and time\n",
    "now = datetime.now()\n",
    "\n",
    "# Format the date/time\n",
    "formatted = now.strftime('%Y-%m-%d %H:%M:%S')\n",
    "\n",
    "print('Current Date and Time:', formatted)"
   ]
  },
  {
   "cell_type": "markdown",
   "metadata": {},
   "source": [
    "## 2. random — Generate Random Data\n",
    "The `random` module allows us to generate random numbers and choices.\n",
    "Here, we’ll use it to generate a **random password** of a given length."
   ]
  },
  {
   "cell_type": "code",
   "execution_count": null,
   "metadata": {},
   "outputs": [],
   "source": [
    "import random\n",
    "import string\n",
    "\n",
    "def generate_password(length=10):\n",
    "    characters = string.ascii_letters + string.digits + string.punctuation\n",
    "    password = ''.join(random.choice(characters) for _ in range(length))\n",
    "    return password\n",
    "\n",
    "print('Generated Password:', generate_password(12))"
   ]
  },
  {
   "cell_type": "markdown",
   "metadata": {},
   "source": [
    "## 3. copy — Shallow vs Deep Copy\n",
    "The `copy` module provides functions to create shallow and deep copies of objects.\n",
    "- A **shallow copy** creates a new object but references the same nested objects.\n",
    "- A **deep copy** creates a completely independent clone."
   ]
  },
  {
   "cell_type": "code",
   "execution_count": null,
   "metadata": {},
   "outputs": [],
   "source": [
    "import copy\n",
    "\n",
    "# Original nested list\n",
    "original = [[1, 2], [3, 4]]\n",
    "\n",
    "# Shallow and deep copies\n",
    "shallow_copy = copy.copy(original)\n",
    "deep_copy = copy.deepcopy(original)\n",
    "\n",
    "# Modify original\n",
    "original[0][0] = 'X'\n",
    "\n",
    "print('Original:', original)\n",
    "print('Shallow Copy:', shallow_copy)\n",
    "print('Deep Copy:', deep_copy)"
   ]
  },
  {
   "cell_type": "markdown",
   "metadata": {},
   "source": [
    "## 4. time — Timing and Delays\n",
    "The `time` module allows access to time-related functions.\n",
    "We can use `time.sleep()` to pause execution and measure elapsed time."
   ]
  },
  {
   "cell_type": "code",
   "execution_count": null,
   "metadata": {},
   "outputs": [],
   "source": [
    "import time\n",
    "\n",
    "print('Timer started...')\n",
    "start = time.time()\n",
    "\n",
    "# Pause for 2 seconds\n",
    "time.sleep(2)\n",
    "\n",
    "end = time.time()\n",
    "print('Timer stopped.')\n",
    "print(f'Elapsed time: {end - start:.2f} seconds')"
   ]
  },
  {
   "cell_type": "markdown",
   "metadata": {},
   "source": [
    "## 5. math — Mathematical Operations\n",
    "The `math` module provides access to mathematical functions.\n",
    "We’ll calculate the **area of a circle** given its radius."
   ]
  },
  {
   "cell_type": "code",
   "execution_count": null,
   "metadata": {},
   "outputs": [],
   "source": [
    "import math\n",
    "\n",
    "radius = 5\n",
    "area = math.pi * (radius ** 2)\n",
    "print(f'The area of a circle with radius {radius} is {area:.2f}')"
   ]
  },
  {
   "cell_type": "markdown",
   "metadata": {},
   "source": [
    "## 6. os — Operating System Interface\n",
    "The `os` module allows interaction with the operating system.\n",
    "We’ll use it to **list files** in the current directory."
   ]
  },
  {
   "cell_type": "code",
   "execution_count": null,
   "metadata": {},
   "outputs": [],
   "source": [
    "import os\n",
    "\n",
    "print('Files in current directory:')\n",
    "for file in os.listdir('.'):\n",
    "    print('-', file)"
   ]
  },
  {
   "cell_type": "markdown",
   "metadata": {},
   "source": [
    "## 7. sys — System-Specific Parameters\n",
    "The `sys` module provides access to system variables and functions.\n",
    "We can use it to check the **Python version** currently in use."
   ]
  },
  {
   "cell_type": "code",
   "execution_count": null,
   "metadata": {},
   "outputs": [],
   "source": [
    "import sys\n",
    "\n",
    "print('Python Version:')\n",
    "print(sys.version)"
   ]
  },
  {
   "cell_type": "markdown",
   "metadata": {},
   "source": [
    "## 8. pdb — The Python Debugger\n",
    "The `pdb` module helps debug code by pausing execution and inspecting variables.\n",
    "Here, we’ll intentionally trigger a **division-by-zero error** and debug it."
   ]
  },
  {
   "cell_type": "code",
   "execution_count": null,
   "metadata": {},
   "outputs": [],
   "source": [
    "import pdb\n",
    "\n",
    "def divide(a, b):\n",
    "    pdb.set_trace()  # Start debugger\n",
    "    return a / b\n",
    "\n",
    "# Uncomment the line below to try debugging interactively.\n",
    "# divide(10, 0)\n",
    "print('Note: Uncomment the divide(10, 0) line to run the debugger.')"
   ]
  }
 ],
 "metadata": {
  "kernelspec": {
   "display_name": "Python 3",
   "language": "python",
   "name": "python3"
  }
 },
 "nbformat": 4,
 "nbformat_minor": 5
}
